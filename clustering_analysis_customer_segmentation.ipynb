{
 "cells": [
  {
   "cell_type": "markdown",
   "metadata": {},
   "source": [
    "# Clustering Analysis - Customer Segmentation\n",
    "\n",
    "This notebook performs customer segmentation using clustering techniques on a synthetic dataset with features similar to the provided task description."
   ]
  },
  {
   "cell_type": "code",
   "execution_count": null,
   "metadata": {},
   "outputs": [],
   "source": [
    "# Import libraries\n",
    "import numpy as np\n",
    "import pandas as pd\n",
    "from sklearn.preprocessing import StandardScaler\n",
    "from sklearn.cluster import KMeans\n",
    "from sklearn.decomposition import PCA\n",
    "from sklearn.metrics import silhouette_score\n",
    "import matplotlib.pyplot as plt\n",
    "import seaborn as sns\n",
    "\n",
    "# Generate synthetic dataset\n",
    "np.random.seed(42)\n",
    "n_customers = 200\n",
    "customer_ids = np.arange(1, n_customers + 1)\n",
    "ages = np.random.randint(18, 70, size=n_customers)\n",
    "annual_income = np.random.randint(15000, 120000, size=n_customers)\n",
    "spending_score = np.random.randint(1, 100, size=n_customers)\n",
    "\n",
    "df = pd.DataFrame({\n",
    "    'CustomerID': customer_ids,\n",
    "    'Age': ages,\n",
    "    'AnnualIncome': annual_income,\n",
    "    'SpendingScore': spending_score\n",
    "})\n",
    "\n",
    "# Display first few rows\n",
    "df.head()"
   ]
  },
  {
   "cell_type": "code",
   "execution_count": null,
   "metadata": {},
   "outputs": [],
   "source": [
    "# Data preprocessing\n",
    "features = ['Age', 'AnnualIncome', 'SpendingScore']\n",
    "scaler = StandardScaler()\n",
    "X_scaled = scaler.fit_transform(df[features])\n",
    "\n",
    "# Determine optimal number of clusters using Elbow Method\n",
    "wcss = []\n",
    "for k in range(1, 11):\n",
    "    kmeans = KMeans(n_clusters=k, random_state=42)\n",
    "    kmeans.fit(X_scaled)\n",
    "    wcss.append(kmeans.inertia_)\n",
    "\n",
    "plt.figure(figsize=(8,5))\n",
    "plt.plot(range(1, 11), wcss, marker='o')\n",
    "plt.title('Elbow Method for Optimal k')\n",
    "plt.xlabel('Number of clusters')\n",
    "plt.ylabel('WCSS')\n",
    "plt.show()"
   ]
  },
  {
   "cell_type": "code",
   "execution_count": null,
   "metadata": {},
   "outputs": [],
   "source": [
    "# Silhouette scores for different k\n",
    "sil_scores = []\n",
    "for k in range(2, 11):\n",
    "    kmeans = KMeans(n_clusters=k, random_state=42)\n",
    "    labels = kmeans.fit_predict(X_scaled)\n",
    "    sil_scores.append(silhouette_score(X_scaled, labels))\n",
    "\n",
    "plt.figure(figsize=(8,5))\n",
    "plt.plot(range(2, 11), sil_scores, marker='o', color='blue')\n",
    "plt.title('Silhouette Scores for Different k')\n",
    "plt.xlabel('Number of clusters')\n",
    "plt.ylabel('Silhouette Score')\n",
    "plt.show()"
   ]
  },
  {
   "cell_type": "code",
   "execution_count": null,
   "metadata": {},
   "outputs": [],
   "source": [
    "# From the plots, choose optimal k (e.g., 4)\n",
    "optimal_k = 4\n",
    "kmeans = KMeans(n_clusters=optimal_k, random_state=42)\n",
    "df['Cluster'] = kmeans.fit_predict(X_scaled)\n",
    "\n",
    "# PCA for 2D visualization\n",
    "pca = PCA(n_components=2)\n",
    "components = pca.fit_transform(X_scaled)\n",
    "df['PCA1'] = components[:, 0]\n",
    "df['PCA2'] = components[:, 1]\n",
    "\n",
    "# Plot clusters\n",
    "plt.figure(figsize=(8,6))\n",
    "sns.scatterplot(data=df, x='PCA1', y='PCA2', hue='Cluster', palette='Set2', s=60)\n",
    "plt.title('Customer Segments (PCA Visualization)')\n",
    "plt.show()"
   ]
  },
  {
   "cell_type": "code",
   "execution_count": null,
   "metadata": {},
   "outputs": [],
   "source": [
    "# Pairplot to visualize feature relationships within clusters\n",
    "sns.pairplot(df, vars=features, hue='Cluster', palette='Set2')"
   ]
  },
  {
   "cell_type": "code",
   "execution_count": null,
   "metadata": {},
   "outputs": [],
   "source": [
    "# Centroid visualization\n",
    "centroids = scaler.inverse_transform(kmeans.cluster_centers_)\n",
    "centroid_df = pd.DataFrame(centroids, columns=features)\n",
    "centroid_df['Cluster'] = range(optimal_k)\n",
    "\n",
    "plt.figure(figsize=(8,6))\n",
    "sns.scatterplot(data=df, x='AnnualIncome', y='SpendingScore', hue='Cluster', palette='Set2', s=60)\n",
    "sns.scatterplot(data=centroid_df, x='AnnualIncome', y='SpendingScore', hue='Cluster', palette='Set2', s=200, marker='X', legend=False)\n",
    "plt.title('Clusters and Centroids')\n",
    "plt.show()"
   ]
  },
  {
   "cell_type": "markdown",
   "metadata": {},
   "source": [
    "## Recommendations\n",
    "- Target marketing campaigns to specific customer segments based on their spending behavior and income.\n",
    "- Develop loyalty programs for high-spending clusters.\n",
    "- Tailor product offerings to different age and income groups.\n",
    "- Use cluster insights for resource allocation and strategic planning."
   ]
  }
 ],
 "metadata": {
  "kernelspec": {
   "display_name": "Python 3",
   "language": "python",
   "name": "python3"
  },
  "language_info": {
   "name": "python",
   "version": "3.9"
  }
 },
 "nbformat": 4,
 "nbformat_minor": 5
}
